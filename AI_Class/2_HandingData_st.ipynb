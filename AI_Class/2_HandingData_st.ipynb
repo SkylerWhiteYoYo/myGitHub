{
  "cells": [
    {
      "cell_type": "markdown",
      "metadata": {
        "id": "YqgzSAsWHbS5"
      },
      "source": [
        "# 훈련 세트와 테스트 세트"
      ]
    },
    {
      "cell_type": "markdown",
      "metadata": {
        "id": "LQEfg_XBHbS9"
      },
      "source": [
        "## 훈련 세트와 테스트 세트"
      ]
    },
    {
      "cell_type": "code",
      "execution_count": null,
      "metadata": {
        "id": "N1oAXHg2Y6DJ"
      },
      "outputs": [],
      "source": [
        "fish_length = [25.4, 26.3, 26.5, 29.0, 29.0, 29.7, 29.7, 30.0, 30.0, 30.7, 31.0, 31.0,\n",
        "                31.5, 32.0, 32.0, 32.0, 33.0, 33.0, 33.5, 33.5, 34.0, 34.0, 34.5, 35.0,\n",
        "                35.0, 35.0, 35.0, 36.0, 36.0, 37.0, 38.5, 38.5, 39.5, 41.0, 41.0, 9.8,\n",
        "                10.5, 10.6, 11.0, 11.2, 11.3, 11.8, 11.8, 12.0, 12.2, 12.4, 13.0, 14.3, 15.0]\n",
        "fish_weight = [242.0, 290.0, 340.0, 363.0, 430.0, 450.0, 500.0, 390.0, 450.0, 500.0, 475.0, 500.0,\n",
        "                500.0, 340.0, 600.0, 600.0, 700.0, 700.0, 610.0, 650.0, 575.0, 685.0, 620.0, 680.0,\n",
        "                700.0, 725.0, 720.0, 714.0, 850.0, 1000.0, 920.0, 955.0, 925.0, 975.0, 950.0, 6.7,\n",
        "                7.5, 7.0, 9.7, 9.8, 8.7, 10.0, 9.9, 9.8, 12.2, 13.4, 12.2, 19.7, 19.9]"
      ]
    },
    {
      "cell_type": "code",
      "execution_count": null,
      "metadata": {
        "id": "4mQxk1Vx7dL5"
      },
      "outputs": [],
      "source": [
        "fish_data = [[] for l, w in (fish_length, fish_weight)]\n",
        "fish_target = []* + []*"
      ]
    },
    {
      "cell_type": "code",
      "execution_count": null,
      "metadata": {
        "id": "gxRWvA4wT-Ka"
      },
      "outputs": [],
      "source": [
        "# 전체 데이터 수 확인\n"
      ]
    },
    {
      "cell_type": "code",
      "execution_count": null,
      "metadata": {
        "id": "H74k3aZQ9hnr"
      },
      "outputs": [],
      "source": [
        "# 리스트 인덱스(선택)\n",
        "# 파이썬 인덱스는 0부터 시작\n",
        "print(fish_data)"
      ]
    },
    {
      "cell_type": "code",
      "execution_count": null,
      "metadata": {
        "id": "6tYXuRGA_4mk"
      },
      "outputs": [],
      "source": [
        "# 리스트 슬라이싱(여러개 선택)\n",
        "# 리스트이름[시작(이상):끝(미만):간격]\n",
        "print(fish_data)"
      ]
    },
    {
      "cell_type": "code",
      "execution_count": null,
      "metadata": {
        "id": "IFesPu-oB41B"
      },
      "outputs": [],
      "source": [
        "print(fish_data[:5])"
      ]
    },
    {
      "cell_type": "code",
      "execution_count": null,
      "metadata": {
        "id": "GSbt5e9ICUKc"
      },
      "outputs": [],
      "source": [
        "print(fish_data[44:])"
      ]
    },
    {
      "cell_type": "code",
      "execution_count": null,
      "metadata": {
        "id": "MqSRWFtpDESU"
      },
      "outputs": [],
      "source": [
        "# 데이터 세트 나누기\n",
        "# 훈련35, 테스트14\n",
        "train_input = fish_data[]\n",
        "train_target = fish_target[]\n",
        "\n",
        "test_input = fish_data[]\n",
        "test_target = fish_target[]"
      ]
    },
    {
      "cell_type": "code",
      "execution_count": null,
      "metadata": {
        "id": "URr_0wBTYsZV"
      },
      "outputs": [],
      "source": [
        "# 사이킷런의 KNN 클래스를 임포트 하고 모델 객체 생성\n",
        "from sklearn.neighbors import KNeighborsClassifier\n",
        "\n",
        "kn = ()"
      ]
    },
    {
      "cell_type": "code",
      "execution_count": null,
      "metadata": {
        "id": "FxiunutA8yMQ"
      },
      "outputs": [],
      "source": [
        "# 모델 훈련\n",
        "kn.fit(train_input, train_target)\n",
        "\n",
        "# 모델 평가\n",
        "kn.score(test_input, test_target)"
      ]
    },
    {
      "cell_type": "markdown",
      "metadata": {
        "id": "IOyftJmqHbTB"
      },
      "source": [
        "## 넘파이"
      ]
    },
    {
      "cell_type": "code",
      "execution_count": null,
      "metadata": {
        "id": "kdoec4RBcrZU"
      },
      "outputs": [],
      "source": [
        "# 대표적인 배열 array 라이브러리\n",
        "import  as"
      ]
    },
    {
      "cell_type": "code",
      "execution_count": null,
      "metadata": {
        "id": "j_NMsjZweD3b"
      },
      "outputs": [],
      "source": [
        "input_arr = (fish_data)\n",
        "target_arr = (fish_target)"
      ]
    },
    {
      "cell_type": "code",
      "execution_count": null,
      "metadata": {
        "id": "H8t38rejifbv"
      },
      "outputs": [],
      "source": [
        "print(input_arr)"
      ]
    },
    {
      "cell_type": "code",
      "execution_count": null,
      "metadata": {
        "id": "ExePPGM6Xjgk"
      },
      "outputs": [],
      "source": [
        "# 기존\n",
        "print(fish_data)"
      ]
    },
    {
      "cell_type": "code",
      "execution_count": null,
      "metadata": {
        "id": "cPMqX_1qluYe"
      },
      "outputs": [],
      "source": [
        "# 배열의 형태 확인\n",
        "print(input_arr.)"
      ]
    },
    {
      "cell_type": "code",
      "execution_count": null,
      "metadata": {
        "id": "8ZKi6avTeKaB"
      },
      "outputs": [],
      "source": [
        "# 무작위로 샘플 선택하기\n",
        "np.(42) # 동일한 결과 나오게 하기\n",
        "\n",
        "index = np.arange(49)\n",
        "print(index)"
      ]
    },
    {
      "cell_type": "code",
      "execution_count": null,
      "metadata": {
        "id": "Ndz46Y7aoS9h"
      },
      "outputs": [],
      "source": [
        "np.random.(index)\n",
        "print(index)"
      ]
    },
    {
      "cell_type": "code",
      "execution_count": null,
      "metadata": {
        "id": "m_OYZlI1yicM"
      },
      "outputs": [],
      "source": [
        "# 넘파이의 배열 인덱싱 활용\n",
        "print(input_arr[])\n",
        "print(input_arr[])"
      ]
    },
    {
      "cell_type": "code",
      "execution_count": null,
      "metadata": {
        "id": "o_MTsZW3eg96"
      },
      "outputs": [],
      "source": [
        "# 랜덤으로 섞인 인덱스 배열을 활용해 훈련 세트 나누기\n",
        "train_input = input_arr[]\n",
        "train_target = target_arr[]"
      ]
    },
    {
      "cell_type": "code",
      "execution_count": null,
      "metadata": {
        "id": "hmO5KDSlBhtt"
      },
      "outputs": [],
      "source": [
        "# 맞게 들어갔는지 확인!\n",
        "print(input_arr[13], train_input[0])"
      ]
    },
    {
      "cell_type": "code",
      "execution_count": null,
      "metadata": {
        "id": "NUNTa8G9gqw2"
      },
      "outputs": [],
      "source": [
        "# 나머지를 테스트 세트로\n",
        "test_input = input_arr[index[]]\n",
        "test_target = target_arr[index[]]"
      ]
    },
    {
      "cell_type": "code",
      "execution_count": null,
      "metadata": {
        "id": "gbnl1bpoiR0x"
      },
      "outputs": [],
      "source": [
        "# 시각화\n",
        "import matplotlib.pyplot as plt\n",
        "\n",
        "# 2차원 배열은 행과 열 인덱스를 콤마, 로 나누어 지정\n",
        "plt.scatter(train_input[:, 0], train_input[:, 1])\n",
        "plt.scatter(test_input[:, 0], test_input[:, 1])\n",
        "plt.xlabel('length')\n",
        "plt.ylabel('weight')\n",
        "plt.show()"
      ]
    },
    {
      "cell_type": "markdown",
      "metadata": {
        "id": "pphep3SEHbTD"
      },
      "source": [
        "## 두 번째 머신러닝 프로그램"
      ]
    },
    {
      "cell_type": "code",
      "execution_count": null,
      "metadata": {
        "id": "RpiXncTRfY7i"
      },
      "outputs": [],
      "source": [
        "# 인덱스를 섞어 만든 데이터로 모델 새로 학습\n",
        "kn.fit(train_input, train_target)"
      ]
    },
    {
      "cell_type": "code",
      "execution_count": null,
      "metadata": {
        "id": "Stdtp3RvhImd"
      },
      "outputs": [],
      "source": [
        "# 모델 테스트\n",
        "kn.score(test_input, test_target)"
      ]
    },
    {
      "cell_type": "code",
      "execution_count": null,
      "metadata": {
        "id": "Od3gLmcJihAe"
      },
      "outputs": [],
      "source": [
        "# 예측한 결과\n",
        "kn.predict(test_input)"
      ]
    },
    {
      "cell_type": "code",
      "execution_count": null,
      "metadata": {
        "id": "Z-iCt9zHilaa",
        "scrolled": true
      },
      "outputs": [],
      "source": [
        "# 실제 답안\n",
        "test_target"
      ]
    },
    {
      "cell_type": "markdown",
      "metadata": {
        "id": "E6b3lNXBdMW3"
      },
      "source": [
        "원래는 print()를 통해 출력을 해야하지만 코랩은 셀의 마지막 코드 결과를 자동으로 출력해줌"
      ]
    },
    {
      "cell_type": "markdown",
      "metadata": {
        "id": "GRX7guHyHsBu"
      },
      "source": [
        "# 데이터 전처리"
      ]
    },
    {
      "cell_type": "markdown",
      "metadata": {
        "id": "l5PO-C32HsBx"
      },
      "source": [
        "## 넘파이로 데이터 준비하기"
      ]
    },
    {
      "cell_type": "code",
      "execution_count": null,
      "metadata": {
        "id": "SLUDuHl8oJZX"
      },
      "outputs": [],
      "source": [
        "fish_length = [25.4, 26.3, 26.5, 29.0, 29.0, 29.7, 29.7, 30.0, 30.0, 30.7, 31.0, 31.0,\n",
        "                31.5, 32.0, 32.0, 32.0, 33.0, 33.0, 33.5, 33.5, 34.0, 34.0, 34.5, 35.0,\n",
        "                35.0, 35.0, 35.0, 36.0, 36.0, 37.0, 38.5, 38.5, 39.5, 41.0, 41.0, 9.8,\n",
        "                10.5, 10.6, 11.0, 11.2, 11.3, 11.8, 11.8, 12.0, 12.2, 12.4, 13.0, 14.3, 15.0]\n",
        "fish_weight = [242.0, 290.0, 340.0, 363.0, 430.0, 450.0, 500.0, 390.0, 450.0, 500.0, 475.0, 500.0,\n",
        "                500.0, 340.0, 600.0, 600.0, 700.0, 700.0, 610.0, 650.0, 575.0, 685.0, 620.0, 680.0,\n",
        "                700.0, 725.0, 720.0, 714.0, 850.0, 1000.0, 920.0, 955.0, 925.0, 975.0, 950.0, 6.7,\n",
        "                7.5, 7.0, 9.7, 9.8, 8.7, 10.0, 9.9, 9.8, 12.2, 13.4, 12.2, 19.7, 19.9]"
      ]
    },
    {
      "cell_type": "code",
      "execution_count": null,
      "metadata": {
        "id": "zNlIVTw_lUIk"
      },
      "outputs": [],
      "source": [
        "# column_stack()\n",
        "# 전달받은 리스트를 일렬로 세운 다음 차례대로 나란히 연결\n",
        "# 연결할 리스트는 튜플 자료형으로 전달\n",
        "np.((, ))"
      ]
    },
    {
      "cell_type": "code",
      "execution_count": null,
      "metadata": {
        "id": "ILMRbWnkLZVF"
      },
      "outputs": [],
      "source": [
        "fish_data = np.column_stack()"
      ]
    },
    {
      "cell_type": "code",
      "execution_count": null,
      "metadata": {
        "id": "qbyxwJkoLh5W"
      },
      "outputs": [],
      "source": [
        "# 실제 확인\n",
        "print(fish_data[:5])"
      ]
    },
    {
      "cell_type": "code",
      "execution_count": null,
      "metadata": {
        "id": "GgyJLb06yzEy"
      },
      "outputs": [],
      "source": [
        "# 이제 타겟 만들자\n",
        "# ones() 원하는 개수의 1 채운 배열 만들어줌\n",
        "print(np.(5))"
      ]
    },
    {
      "cell_type": "code",
      "execution_count": null,
      "metadata": {
        "id": "-ScgL2hIL0FB"
      },
      "outputs": [],
      "source": [
        "# concatenate() 첫번째 차원을 따라 배열 연결\n",
        "# 마찬가지로 튜플 활용\n",
        "fish_target = np.()\n",
        "print(fish_target)"
      ]
    },
    {
      "cell_type": "markdown",
      "metadata": {
        "id": "ShnaZsAAHsB1"
      },
      "source": [
        "## 사이킷런으로 훈련 세트와 테스트 세트 나누기"
      ]
    },
    {
      "cell_type": "code",
      "execution_count": null,
      "metadata": {
        "id": "vpkI83t3KBsF"
      },
      "outputs": [],
      "source": [
        "from sklearn.model_selection import"
      ]
    },
    {
      "cell_type": "code",
      "execution_count": null,
      "metadata": {
        "id": "l-gm9r-jKMJY"
      },
      "outputs": [],
      "source": [
        "# 데이터는 75, 25 비율로 나뉨\n",
        "# 훈련 데이터, 테스트 데이터, 훈련 타겟, 테스트 타겟\n",
        "train_input, test_input,  = train_test_split(\n",
        "    fish_data, , random_state=42)"
      ]
    },
    {
      "cell_type": "code",
      "execution_count": null,
      "metadata": {
        "id": "CS696_mxKZ38"
      },
      "outputs": [],
      "source": [
        "# 데이터 크기 확인\n",
        "print(train_input.shape, test_input.shape)"
      ]
    },
    {
      "cell_type": "code",
      "execution_count": null,
      "metadata": {
        "id": "PtNqwNjbKnI-"
      },
      "outputs": [],
      "source": [
        "# 데이터 크기 확인\n",
        "print(train_target.shape, test_target.shape)"
      ]
    },
    {
      "cell_type": "code",
      "execution_count": null,
      "metadata": {
        "id": "mR9_bB3COHaA"
      },
      "outputs": [],
      "source": [
        "# 실제 잘 섞였는지 확인\n",
        "print(test_target)"
      ]
    },
    {
      "cell_type": "markdown",
      "metadata": {
        "id": "j5sQze3jlDNp"
      },
      "source": [
        "무작위로 나눌 때 샘플이 골고루 섞이지 않을 수 있음<br>\n",
        "특히 일부 클래스의 수가 적은 경우 발생하기 쉬움"
      ]
    },
    {
      "cell_type": "code",
      "execution_count": null,
      "metadata": {
        "id": "vUv0gHOuO_wg"
      },
      "outputs": [],
      "source": [
        "# 특정 비율에 맞게 데이터를 랜덤하게 나눠주기\n",
        "train_input, test_input, train_target, test_target = train_test_split(\n",
        "    fish_data, fish_target, stratify=, random_state=42)"
      ]
    },
    {
      "cell_type": "code",
      "execution_count": null,
      "metadata": {
        "id": "aDkLM6oDPdO9"
      },
      "outputs": [],
      "source": [
        "print(test_target)"
      ]
    },
    {
      "cell_type": "markdown",
      "metadata": {
        "id": "KFO96jGvHsB2"
      },
      "source": [
        "## 수상한 도미 한마리"
      ]
    },
    {
      "cell_type": "code",
      "execution_count": null,
      "metadata": {
        "id": "HhB-Alz--6U4"
      },
      "outputs": [],
      "source": [
        "# 다시 돌아가서 문제의 도미 확인\n",
        "kn = KNeighborsClassifier()\n",
        "kn.(train_input, train_target)\n",
        "kn.(test_input, test_target)"
      ]
    },
    {
      "cell_type": "code",
      "execution_count": null,
      "metadata": {
        "id": "JRKoCZFeT9xE"
      },
      "outputs": [],
      "source": [
        "# 문제의 도미 확인\n",
        "print(kn.([[25, 150]]))"
      ]
    },
    {
      "cell_type": "code",
      "execution_count": null,
      "metadata": {
        "id": "1-GE9ic9_XRU"
      },
      "outputs": [],
      "source": [
        "# 시각화\n",
        "plt.(train_input[:,0], train_input[:,1])\n",
        "plt.scatter(25, 150, marker='^')\n",
        "plt.xlabel('length')\n",
        "plt.ylabel('weight')\n",
        "plt.show()"
      ]
    },
    {
      "cell_type": "code",
      "execution_count": null,
      "metadata": {
        "id": "G_jwm_ouQKQ7"
      },
      "outputs": [],
      "source": [
        "# 실제 활용된 이웃 확인(기본 5개 이웃)\n",
        "# kneighbors()\n",
        "distances, indexes = kn.([[25, 150]])"
      ]
    },
    {
      "cell_type": "code",
      "execution_count": null,
      "metadata": {
        "id": "tVVz-wJoQ2ps"
      },
      "outputs": [],
      "source": [
        "# 활용된 이웃 시각화\n",
        "plt.scatter(train_input[:,0], train_input[:,1])\n",
        "plt.scatter(25, 150, marker='^')\n",
        "plt.scatter(train_input, train_input, marker='D')\n",
        "plt.xlabel('length')\n",
        "plt.ylabel('weight')\n",
        "plt.show()"
      ]
    },
    {
      "cell_type": "code",
      "execution_count": null,
      "metadata": {
        "id": "0IvKvCx1RyhY"
      },
      "outputs": [],
      "source": [
        "print(train_input[indexes])"
      ]
    },
    {
      "cell_type": "code",
      "execution_count": null,
      "metadata": {
        "id": "3tEGpNPT00ut"
      },
      "outputs": [],
      "source": [
        "# 직접 데이터 확인\n",
        "print(train_input[indexes])\n",
        "print(train_target[indexes])"
      ]
    },
    {
      "cell_type": "markdown",
      "metadata": {
        "id": "eWGTdu0Iojby"
      },
      "source": [
        "산점도를 보면 도미와 더 가까워 보이는데?"
      ]
    },
    {
      "cell_type": "code",
      "execution_count": null,
      "metadata": {
        "id": "ry0R_gEqRVsQ"
      },
      "outputs": [],
      "source": [
        "# 실제 거리 확인\n",
        "print(distances)"
      ]
    },
    {
      "cell_type": "markdown",
      "metadata": {
        "id": "15Cz1cniHsB4"
      },
      "source": [
        "## 기준을 맞춰라"
      ]
    },
    {
      "cell_type": "code",
      "execution_count": null,
      "metadata": {
        "id": "P6PXDboiTx_j",
        "scrolled": true
      },
      "outputs": [],
      "source": [
        "# 축 범위를 동일하게 지정\n",
        "plt.scatter(train_input[:,0], train_input[:,1])\n",
        "plt.scatter(25, 150, marker='^')\n",
        "plt.scatter(train_input[indexes,0], train_input[indexes,1], marker='D')\n",
        "plt.()\n",
        "plt.xlabel('length')\n",
        "plt.ylabel('weight')\n",
        "plt.show()"
      ]
    },
    {
      "cell_type": "markdown",
      "metadata": {
        "id": "Uyz4A4oHqPPV"
      },
      "source": [
        "이 경우 x축 길이는 영향X<br>\n",
        "오로지 y축 무게만 고려 대상이 됨"
      ]
    },
    {
      "cell_type": "markdown",
      "metadata": {
        "id": "pc9q5MvNq6G9"
      },
      "source": [
        "## 데이터 전처리 - 표준 점수 활용"
      ]
    },
    {
      "cell_type": "code",
      "execution_count": null,
      "metadata": {
        "id": "Yi9xncqkUGIZ"
      },
      "outputs": [],
      "source": [
        "# 표준 점수\n",
        "# 각 특성값이 평균에서 표준편차의 몇배만큼 떨어져 있는지\n",
        "# axis=0 -> 행을 따라 각 열의 통계 값 계산\n",
        "mean = np.(train_input, axis=0)\n",
        "std = np.(train_input, axis=0)\n",
        "print(mean, std)"
      ]
    },
    {
      "cell_type": "code",
      "execution_count": null,
      "metadata": {
        "id": "jmSFa3LzUteI"
      },
      "outputs": [],
      "source": [
        "# 표준점수 = 평균을 빼고 표준편차를 나눠줌\n",
        "# 브로드캐스팅\n",
        "# 알아서 각각 평균을 빼고 각각에 표준편차 나눔\n",
        "train_scaled = (train_input - mean) / std"
      ]
    },
    {
      "cell_type": "markdown",
      "metadata": {
        "id": "fQEcM4FoHsB5"
      },
      "source": [
        "## 전처리 데이터로 모델 훈련하기"
      ]
    },
    {
      "cell_type": "code",
      "execution_count": null,
      "metadata": {
        "id": "P4dx2WDOVDMD",
        "scrolled": true
      },
      "outputs": [],
      "source": [
        "plt.scatter([:,0], [:,1])\n",
        "plt.scatter(25, 150, marker='^')\n",
        "plt.xlabel('length')\n",
        "plt.ylabel('weight')\n",
        "plt.show()"
      ]
    },
    {
      "cell_type": "code",
      "execution_count": null,
      "metadata": {
        "id": "Kjd2W6ZbVlgG"
      },
      "outputs": [],
      "source": [
        "# 샘플 [25,150]도 \"동일한 비율\"로 변환\n",
        "# 훈련 세트에서 사용된 평균 표준편차를 사용해야 함!\n",
        "new = ([25, 150] - ) /"
      ]
    },
    {
      "cell_type": "code",
      "execution_count": null,
      "metadata": {
        "id": "5-Zq-jIMVbV-"
      },
      "outputs": [],
      "source": [
        "# 다시 시각화\n",
        "# 처음 산점도와 거의 동일\n",
        "# 바뀐 점은 x, y축의 범위가 동일해짐\n",
        "plt.scatter(train_scaled[:,0], train_scaled[:,1])\n",
        "plt.scatter(new[0], new[1], marker='^')\n",
        "plt.xlabel('length')\n",
        "plt.ylabel('weight')\n",
        "plt.show()"
      ]
    },
    {
      "cell_type": "code",
      "execution_count": null,
      "metadata": {
        "id": "NbsFki8MVtrn"
      },
      "outputs": [],
      "source": [
        "# 다시 훈련해 보자\n",
        "# 타겟은 그냥 둠\n",
        "kn.fit(train_scaled, train_target)"
      ]
    },
    {
      "cell_type": "code",
      "execution_count": null,
      "metadata": {
        "id": "FLP_sMOAv84U"
      },
      "outputs": [],
      "source": [
        "# 테스트\n",
        "kn.score(test_input, test_target)"
      ]
    },
    {
      "cell_type": "code",
      "execution_count": null,
      "metadata": {
        "id": "5uc_k1nlWnNN"
      },
      "outputs": [],
      "source": [
        "# 주의! 테스트 세트도 \"훈련 세트\"의 평균, 표준편차로 변환!\n",
        "test_scaled = (test_input - ) /"
      ]
    },
    {
      "cell_type": "code",
      "execution_count": null,
      "metadata": {
        "id": "6PfEwPLxWvdz"
      },
      "outputs": [],
      "source": [
        "# 다시 테스트\n",
        "kn.score(, test_target)"
      ]
    },
    {
      "cell_type": "code",
      "execution_count": null,
      "metadata": {
        "id": "mox3oWCLWzGW"
      },
      "outputs": [],
      "source": [
        "# 새로운 샘플도 확인\n",
        "print(kn.predict([new]))"
      ]
    },
    {
      "cell_type": "code",
      "execution_count": null,
      "metadata": {
        "id": "bHWAbdefW9W6"
      },
      "outputs": [],
      "source": [
        "# 마지막 최종 시각화\n",
        "distances, indexes = kn.kneighbors([new])\n",
        "\n",
        "plt.scatter(train_scaled[:,0], train_scaled[:,1])\n",
        "plt.scatter(new[0], new[1], marker='^')\n",
        "plt.scatter(train_scaled[indexes,0], train_scaled[indexes,1], marker='D')\n",
        "plt.xlabel('length')\n",
        "plt.ylabel('weight')\n",
        "plt.show()"
      ]
    },
    {
      "cell_type": "markdown",
      "metadata": {
        "id": "kD_qGSSjwqrc"
      },
      "source": [
        "특성값의 스케일에 민감하지 않고 안정적인 예측을 할 수 있는 모델 완성"
      ]
    }
  ],
  "metadata": {
    "colab": {
      "provenance": []
    },
    "kernelspec": {
      "display_name": "Python 3",
      "language": "python",
      "name": "python3"
    },
    "language_info": {
      "codemirror_mode": {
        "name": "ipython",
        "version": 3
      },
      "file_extension": ".py",
      "mimetype": "text/x-python",
      "name": "python",
      "nbconvert_exporter": "python",
      "pygments_lexer": "ipython3",
      "version": "3.9.6"
    }
  },
  "nbformat": 4,
  "nbformat_minor": 0
}
